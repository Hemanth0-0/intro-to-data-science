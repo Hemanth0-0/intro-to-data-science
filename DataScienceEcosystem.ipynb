{
  "metadata": {
    "kernelspec": {
      "name": "python",
      "display_name": "Python (Pyodide)",
      "language": "python"
    },
    "language_info": {
      "codemirror_mode": {
        "name": "python",
        "version": 3
      },
      "file_extension": ".py",
      "mimetype": "text/x-python",
      "name": "python",
      "nbconvert_exporter": "python",
      "pygments_lexer": "ipython3",
      "version": "3.8"
    }
  },
  "nbformat_minor": 5,
  "nbformat": 4,
  "cells": [
    {
      "id": "559a8a70-c433-4afd-ac9b-02d83896ae4f",
      "cell_type": "markdown",
      "source": "<h1>Data Science Tools and Ecosystem</h1>",
      "metadata": {}
    },
    {
      "id": "d499fcab-a4ed-4429-8990-70ddcd17ebd1",
      "cell_type": "markdown",
      "source": "In this notebook, Data Science Tools and Ecosystem are summarized.",
      "metadata": {}
    },
    {
      "id": "9c201917-2b3c-4255-be58-2ecbef7573fe",
      "cell_type": "markdown",
      "source": "Some of the popular languages that Data Scientists use are:\n1. Python\n2. Java\n3. R\n4. SQL\n5. Julia",
      "metadata": {}
    },
    {
      "id": "a0de5fb0-182e-4eb5-b004-dfcb9d736d19",
      "cell_type": "markdown",
      "source": "Some of the commonly used libraries used by Data Scientists include:\n1. NumPy\n2. Pandas\n3. Matplotlib\n4. Scikit-learn\n5. TensorFlow",
      "metadata": {}
    },
    {
      "id": "284c1969-34cd-4eb2-8f5e-ef62fa8a5896",
      "cell_type": "markdown",
      "source": "<h1>Data Science Tools</h1>\n\n| Tool            | Description                     |\n|-----------------|---------------------------------|\n| Jupyter Notebook| Interactive computing tool      |\n| RStudio         | IDE for R                       |\n| Apache Spark    | Big data processing framework   |\n| Tableau         | Data visualization software     |\n| TensorFlow      | Machine learning framework      |",
      "metadata": {}
    },
    {
      "id": "662c0143-62bc-413e-9636-9285988143f6",
      "cell_type": "markdown",
      "source": "<h3>Below are a few examples of evaluating arithmetic expressions in Python</h3>\n",
      "metadata": {}
    },
    {
      "id": "c74dfc80-20b9-4d2b-9c89-235966aa52eb",
      "cell_type": "code",
      "source": "#This a simple arithmetic expression to mutiply then add integers\n(3*4)+5",
      "metadata": {
        "trusted": true
      },
      "outputs": [
        {
          "execution_count": 20,
          "output_type": "execute_result",
          "data": {
            "text/plain": "17"
          },
          "metadata": {}
        }
      ],
      "execution_count": 20
    },
    {
      "id": "a33ebb21-94a5-4030-af3e-2d4b8df6abe4",
      "cell_type": "code",
      "source": "#This will convert 200 minutes to hours by diving by 60\na=200/60\nprint(f\"200 minutes = {a} hours\")",
      "metadata": {
        "trusted": true
      },
      "outputs": [
        {
          "name": "stdout",
          "output_type": "stream",
          "text": "200 minutes = 3.3333333333333335 hours\n"
        }
      ],
      "execution_count": 25
    },
    {
      "id": "60f9e705-b8e6-4ae3-a7aa-6049b10c11b8",
      "cell_type": "markdown",
      "source": "**Objectives:**\n\n- Understand and list popular programming languages used in Data Science.\n- Identify commonly used libraries in the Data Science workflow.\n- Learn about various tools used by Data Scientists.\n- Practice writing and evaluating simple arithmetic expressions.\n- Perform basic operations using Python code cells.",
      "metadata": {}
    },
    {
      "id": "c3bb08d7-5a16-4223-82ef-326217e0329a",
      "cell_type": "markdown",
      "source": "<h2>Author:</h2>Hemanth Sai",
      "metadata": {}
    }
  ]
}